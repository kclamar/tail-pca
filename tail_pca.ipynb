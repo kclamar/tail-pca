{
 "cells": [
  {
   "cell_type": "code",
   "execution_count": 1,
   "metadata": {},
   "outputs": [],
   "source": [
    "import pathlib\n",
    "\n",
    "import json\n",
    "import matplotlib.cm as cm\n",
    "import matplotlib.colorbar as colorbar\n",
    "import matplotlib.colors as colors\n",
    "import matplotlib.gridspec as gridspec\n",
    "import matplotlib.pyplot as plt\n",
    "import numpy as np\n",
    "\n",
    "from scipy.ndimage import gaussian_filter\n",
    "from sklearn.decomposition import PCA\n",
    "from sklearn.pipeline import make_pipeline\n",
    "from sklearn.preprocessing import StandardScaler"
   ]
  },
  {
   "cell_type": "code",
   "execution_count": 2,
   "metadata": {},
   "outputs": [],
   "source": [
    "def get_angles(file, sigma=5):\n",
    "    with open(file) as f:\n",
    "        data = json.load(f)['wellPoissMouv'][0][0][0]\n",
    "\n",
    "    xy = np.stack([data['TailX_VideoReferential'],\n",
    "                   data['TailY_VideoReferential']], axis=-1)\n",
    "    \n",
    "    filtered = gaussian_filter(xy, sigma=[0, sigma, 0], mode='nearest')\n",
    "    diff = filtered[:, :-1] - filtered[:, 1:]\n",
    "    heading = data['Heading'][0]\n",
    "    heading_vector = np.array([np.cos(heading), np.sin(heading)])\n",
    "    angles = np.arctan2(np.cross(diff, heading_vector), np.dot(diff, heading_vector))\n",
    "    \n",
    "    return angles\n",
    "\n",
    "\n",
    "def to_points(components, scale, mean, strength):\n",
    "    eigentails = components * strength * scale + mean\n",
    "    return np.cumsum(np.stack([np.sin(eigentails), np.cos(eigentails)], axis=-1), axis=1)"
   ]
  },
  {
   "cell_type": "markdown",
   "metadata": {},
   "source": [
    "# Data"
   ]
  },
  {
   "cell_type": "code",
   "execution_count": 3,
   "metadata": {},
   "outputs": [
    {
     "name": "stdout",
     "output_type": "stream",
     "text": [
      "data/results_F2-set1-T1_0.txt\n",
      "data/results_F2-set1-T2_10L.txt\n",
      "data/results_F2-set1-T3_10R.txt\n",
      "data/results_F2-set1-T4_10R.txt\n",
      "data/results_F2-set1-T5_10L.txt\n",
      "data/results_F2-set1-T6_0.txt\n",
      "data/results_F2-set2-T1_0.txt\n",
      "data/results_F2-set2-T2_10L.txt\n",
      "data/results_F2-set2-T3_10R.txt\n",
      "data/results_F2-set2-T4_10R.txt\n",
      "data/results_F2-set2-T5_10L.txt\n",
      "data/results_F2-set2-T6_0.txt\n"
     ]
    }
   ],
   "source": [
    "results = list(pathlib.Path('data').glob('*'))\n",
    "for result in results:\n",
    "    print(result.as_posix())"
   ]
  },
  {
   "cell_type": "markdown",
   "metadata": {},
   "source": [
    "# Extract angles"
   ]
  },
  {
   "cell_type": "code",
   "execution_count": 4,
   "metadata": {},
   "outputs": [],
   "source": [
    "angles = np.concatenate([get_angles(result) for result in results], axis=0)"
   ]
  },
  {
   "cell_type": "markdown",
   "metadata": {},
   "source": [
    "# PCA"
   ]
  },
  {
   "cell_type": "code",
   "execution_count": 5,
   "metadata": {},
   "outputs": [],
   "source": [
    "n_components = 3\n",
    "\n",
    "pipeline = make_pipeline(StandardScaler(), PCA(n_components)) # Normalize data\n",
    "pipeline.fit(angles)\n",
    "\n",
    "z = pipeline.transform(angles)\n",
    "components = pipeline.steps[1][-1].components_\n",
    "mean = pipeline.steps[0][-1].mean_\n",
    "scale = pipeline.steps[0][-1].scale_"
   ]
  },
  {
   "cell_type": "markdown",
   "metadata": {},
   "source": [
    "# Visualization"
   ]
  },
  {
   "cell_type": "code",
   "execution_count": 6,
   "metadata": {},
   "outputs": [],
   "source": [
    "max_coef = 60\n",
    "n_lines = 100\n",
    "cmap = 'gray_r'"
   ]
  },
  {
   "cell_type": "code",
   "execution_count": 7,
   "metadata": {},
   "outputs": [
    {
     "data": {
      "image/png": "[encoded data removed]",
      "text/plain": [
       "<Figure size 540x198 with 4 Axes>"
      ]
     },
     "metadata": {
      "needs_background": "light"
     },
     "output_type": "display_data"
    }
   ],
   "source": [
    "# Parameters\n",
    "max_coef = 60\n",
    "n_lines = 100\n",
    "cmap = cm.gray_r\n",
    "subplot_size = 2.5\n",
    "height_ratios = [1, .1]\n",
    "\n",
    "\n",
    "# Plotting\n",
    "linspace = np.linspace(0, 1, n_lines)\n",
    "lines = np.array([[to_points(components, scale, mean, i * max_coef)[k]\n",
    "                   for i in linspace] for k in range(n_components)])\n",
    "\n",
    "xmax = max(abs(lines[..., 0].max()), abs(lines[..., 0].min()))\n",
    "ymax = abs(lines[..., 1].max())\n",
    "vmax = max(xmax, ymax / 2)\n",
    "\n",
    "fig = plt.figure(constrained_layout=False,\n",
    "                 figsize=(subplot_size * n_components,\n",
    "                          subplot_size * sum(height_ratios)))\n",
    "\n",
    "spec = gridspec.GridSpec(ncols=n_components, nrows=2, figure=fig, height_ratios=height_ratios)\n",
    "axes = [fig.add_subplot(spec[0, i]) for i in range(n_components)]\n",
    "\n",
    "for k in range(n_components):\n",
    "    ax = axes[k]\n",
    "    \n",
    "    for i, val in enumerate(linspace):\n",
    "        ax.plot(*lines[k, i].T, color=cmap(val))\n",
    "    \n",
    "    ax.axis('off')\n",
    "    ax.set_aspect('equal', 'box')\n",
    "    ax.set_xlim([-vmax, vmax])\n",
    "    ax.set_ylim([0, 2 * vmax])\n",
    "    ax.set_title(f'PC{k+1}')\n",
    "    ax.invert_yaxis()\n",
    "\n",
    "cbar_ax = fig.add_subplot(spec[1, 1])\n",
    "cbar_ax.text(-.05, 0.5, 0, transform=cbar_ax.transAxes, ha='right', va='center')\n",
    "cbar_ax.text(1.05, 0.5, max_coef, transform=cbar_ax.transAxes, ha='left', va='center')\n",
    "\n",
    "cb = colorbar.ColorbarBase(cbar_ax, cmap=cmap, orientation='horizontal',\n",
    "                           norm=colors.Normalize(vmin=0, vmax=max_coef))\n",
    "cb.set_label('Coefficient')\n",
    "cb.set_ticks([])\n",
    "cb.outline.set_visible(False)\n",
    "\n",
    "fig.subplots_adjust(wspace=0)"
   ]
  }
 ],
 "metadata": {
  "kernelspec": {
   "display_name": "Python 3",
   "language": "python",
   "name": "python3"
  },
  "language_info": {
   "codemirror_mode": {
    "name": "ipython",
    "version": 3
   },
   "file_extension": ".py",
   "mimetype": "text/x-python",
   "name": "python",
   "nbconvert_exporter": "python",
   "pygments_lexer": "ipython3",
   "version": "3.7.7"
  }
 },
 "nbformat": 4,
 "nbformat_minor": 4
}
